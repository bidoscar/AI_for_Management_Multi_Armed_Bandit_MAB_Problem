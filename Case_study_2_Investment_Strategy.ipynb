{
  "nbformat": 4,
  "nbformat_minor": 0,
  "metadata": {
    "colab": {
      "provenance": []
    },
    "kernelspec": {
      "name": "python3",
      "display_name": "Python 3"
    },
    "language_info": {
      "name": "python"
    }
  },
  "cells": [
    {
      "cell_type": "markdown",
      "source": [
        "# Investment Strategy\n",
        "\n",
        "In the field of finance, investors often face the challenge of making decisions on their investment strategies. They need to strike a balance between exploring new investment opportunities and exploiting existing ones.\n",
        "\n",
        "Exploration involves seeking out new markets, sectors, or investment instruments to potentially achieve high returns and diversify their portfolio.\n",
        "\n",
        "Exploitation, on the other hand, focuses on maximizing returns by capitalizing on well-performing investments with a proven track record.\n",
        "\n",
        "Thompson Sampling can be used as a decision-making algorithm to tackle this challenge."
      ],
      "metadata": {
        "id": "BTxgcYyicRa8"
      }
    },
    {
      "cell_type": "code",
      "source": [
        "import numpy as np\n",
        "import pandas as pd\n",
        "from matplotlib import pyplot as plt"
      ],
      "metadata": {
        "id": "V2bezEZM8V94"
      },
      "execution_count": 84,
      "outputs": []
    },
    {
      "cell_type": "markdown",
      "source": [
        "  **The dataset provides information about the returns associated with each investment opportunity for 10000 traders**."
      ],
      "metadata": {
        "id": "X9czMHlr1gM6"
      }
    },
    {
      "cell_type": "code",
      "source": [
        "# Load your real-life dataset\n",
        "df = pd.read_excel('Investment_opportinuties_return.xlsx')"
      ],
      "metadata": {
        "id": "vSyCrd3z8XZD"
      },
      "execution_count": 85,
      "outputs": []
    },
    {
      "cell_type": "code",
      "source": [
        "df.head()"
      ],
      "metadata": {
        "colab": {
          "base_uri": "https://localhost:8080/",
          "height": 206
        },
        "id": "BTG7kCFM8ZM7",
        "outputId": "d1605ea9-d75d-493e-d3fd-8b0edfaddcee"
      },
      "execution_count": 86,
      "outputs": [
        {
          "output_type": "execute_result",
          "data": {
            "text/plain": [
              "   Opportunity A  Opportunity B  Opportunity C\n",
              "0      -0.134266      -0.151816       0.300034\n",
              "1       0.080835       0.119662       0.313374\n",
              "2       0.283837       0.168716      -0.141221\n",
              "3      -0.251042      -0.077942       0.172508\n",
              "4       0.112482      -0.124553       0.118473"
            ],
            "text/html": [
              "\n",
              "  <div id=\"df-c49a2baa-8f58-4452-acc4-f6f1f60935b3\">\n",
              "    <div class=\"colab-df-container\">\n",
              "      <div>\n",
              "<style scoped>\n",
              "    .dataframe tbody tr th:only-of-type {\n",
              "        vertical-align: middle;\n",
              "    }\n",
              "\n",
              "    .dataframe tbody tr th {\n",
              "        vertical-align: top;\n",
              "    }\n",
              "\n",
              "    .dataframe thead th {\n",
              "        text-align: right;\n",
              "    }\n",
              "</style>\n",
              "<table border=\"1\" class=\"dataframe\">\n",
              "  <thead>\n",
              "    <tr style=\"text-align: right;\">\n",
              "      <th></th>\n",
              "      <th>Opportunity A</th>\n",
              "      <th>Opportunity B</th>\n",
              "      <th>Opportunity C</th>\n",
              "    </tr>\n",
              "  </thead>\n",
              "  <tbody>\n",
              "    <tr>\n",
              "      <th>0</th>\n",
              "      <td>-0.134266</td>\n",
              "      <td>-0.151816</td>\n",
              "      <td>0.300034</td>\n",
              "    </tr>\n",
              "    <tr>\n",
              "      <th>1</th>\n",
              "      <td>0.080835</td>\n",
              "      <td>0.119662</td>\n",
              "      <td>0.313374</td>\n",
              "    </tr>\n",
              "    <tr>\n",
              "      <th>2</th>\n",
              "      <td>0.283837</td>\n",
              "      <td>0.168716</td>\n",
              "      <td>-0.141221</td>\n",
              "    </tr>\n",
              "    <tr>\n",
              "      <th>3</th>\n",
              "      <td>-0.251042</td>\n",
              "      <td>-0.077942</td>\n",
              "      <td>0.172508</td>\n",
              "    </tr>\n",
              "    <tr>\n",
              "      <th>4</th>\n",
              "      <td>0.112482</td>\n",
              "      <td>-0.124553</td>\n",
              "      <td>0.118473</td>\n",
              "    </tr>\n",
              "  </tbody>\n",
              "</table>\n",
              "</div>\n",
              "      <button class=\"colab-df-convert\" onclick=\"convertToInteractive('df-c49a2baa-8f58-4452-acc4-f6f1f60935b3')\"\n",
              "              title=\"Convert this dataframe to an interactive table.\"\n",
              "              style=\"display:none;\">\n",
              "        \n",
              "  <svg xmlns=\"http://www.w3.org/2000/svg\" height=\"24px\"viewBox=\"0 0 24 24\"\n",
              "       width=\"24px\">\n",
              "    <path d=\"M0 0h24v24H0V0z\" fill=\"none\"/>\n",
              "    <path d=\"M18.56 5.44l.94 2.06.94-2.06 2.06-.94-2.06-.94-.94-2.06-.94 2.06-2.06.94zm-11 1L8.5 8.5l.94-2.06 2.06-.94-2.06-.94L8.5 2.5l-.94 2.06-2.06.94zm10 10l.94 2.06.94-2.06 2.06-.94-2.06-.94-.94-2.06-.94 2.06-2.06.94z\"/><path d=\"M17.41 7.96l-1.37-1.37c-.4-.4-.92-.59-1.43-.59-.52 0-1.04.2-1.43.59L10.3 9.45l-7.72 7.72c-.78.78-.78 2.05 0 2.83L4 21.41c.39.39.9.59 1.41.59.51 0 1.02-.2 1.41-.59l7.78-7.78 2.81-2.81c.8-.78.8-2.07 0-2.86zM5.41 20L4 18.59l7.72-7.72 1.47 1.35L5.41 20z\"/>\n",
              "  </svg>\n",
              "      </button>\n",
              "      \n",
              "  <style>\n",
              "    .colab-df-container {\n",
              "      display:flex;\n",
              "      flex-wrap:wrap;\n",
              "      gap: 12px;\n",
              "    }\n",
              "\n",
              "    .colab-df-convert {\n",
              "      background-color: #E8F0FE;\n",
              "      border: none;\n",
              "      border-radius: 50%;\n",
              "      cursor: pointer;\n",
              "      display: none;\n",
              "      fill: #1967D2;\n",
              "      height: 32px;\n",
              "      padding: 0 0 0 0;\n",
              "      width: 32px;\n",
              "    }\n",
              "\n",
              "    .colab-df-convert:hover {\n",
              "      background-color: #E2EBFA;\n",
              "      box-shadow: 0px 1px 2px rgba(60, 64, 67, 0.3), 0px 1px 3px 1px rgba(60, 64, 67, 0.15);\n",
              "      fill: #174EA6;\n",
              "    }\n",
              "\n",
              "    [theme=dark] .colab-df-convert {\n",
              "      background-color: #3B4455;\n",
              "      fill: #D2E3FC;\n",
              "    }\n",
              "\n",
              "    [theme=dark] .colab-df-convert:hover {\n",
              "      background-color: #434B5C;\n",
              "      box-shadow: 0px 1px 3px 1px rgba(0, 0, 0, 0.15);\n",
              "      filter: drop-shadow(0px 1px 2px rgba(0, 0, 0, 0.3));\n",
              "      fill: #FFFFFF;\n",
              "    }\n",
              "  </style>\n",
              "\n",
              "      <script>\n",
              "        const buttonEl =\n",
              "          document.querySelector('#df-c49a2baa-8f58-4452-acc4-f6f1f60935b3 button.colab-df-convert');\n",
              "        buttonEl.style.display =\n",
              "          google.colab.kernel.accessAllowed ? 'block' : 'none';\n",
              "\n",
              "        async function convertToInteractive(key) {\n",
              "          const element = document.querySelector('#df-c49a2baa-8f58-4452-acc4-f6f1f60935b3');\n",
              "          const dataTable =\n",
              "            await google.colab.kernel.invokeFunction('convertToInteractive',\n",
              "                                                     [key], {});\n",
              "          if (!dataTable) return;\n",
              "\n",
              "          const docLinkHtml = 'Like what you see? Visit the ' +\n",
              "            '<a target=\"_blank\" href=https://colab.research.google.com/notebooks/data_table.ipynb>data table notebook</a>'\n",
              "            + ' to learn more about interactive tables.';\n",
              "          element.innerHTML = '';\n",
              "          dataTable['output_type'] = 'display_data';\n",
              "          await google.colab.output.renderOutput(dataTable, element);\n",
              "          const docLink = document.createElement('div');\n",
              "          docLink.innerHTML = docLinkHtml;\n",
              "          element.appendChild(docLink);\n",
              "        }\n",
              "      </script>\n",
              "    </div>\n",
              "  </div>\n",
              "  "
            ]
          },
          "metadata": {},
          "execution_count": 86
        }
      ]
    },
    {
      "cell_type": "code",
      "source": [
        "df.describe()"
      ],
      "metadata": {
        "colab": {
          "base_uri": "https://localhost:8080/",
          "height": 300
        },
        "id": "4jJUrh368kmt",
        "outputId": "c7768089-4c08-4f76-9628-88cc5559a98c"
      },
      "execution_count": 87,
      "outputs": [
        {
          "output_type": "execute_result",
          "data": {
            "text/plain": [
              "       Opportunity A  Opportunity B  Opportunity C\n",
              "count   10000.000000   10000.000000   10000.000000\n",
              "mean        0.059329       0.059475       0.058735\n",
              "std         0.198495       0.142654       0.262853\n",
              "min        -0.787878      -0.467733      -0.859693\n",
              "25%        -0.073696      -0.036342      -0.120554\n",
              "50%         0.058363       0.058386       0.058414\n",
              "75%         0.192640       0.156483       0.237903\n",
              "max         0.858672       0.588158       1.410236"
            ],
            "text/html": [
              "\n",
              "  <div id=\"df-54b1eb67-82d4-469f-8014-bf1f305ef173\">\n",
              "    <div class=\"colab-df-container\">\n",
              "      <div>\n",
              "<style scoped>\n",
              "    .dataframe tbody tr th:only-of-type {\n",
              "        vertical-align: middle;\n",
              "    }\n",
              "\n",
              "    .dataframe tbody tr th {\n",
              "        vertical-align: top;\n",
              "    }\n",
              "\n",
              "    .dataframe thead th {\n",
              "        text-align: right;\n",
              "    }\n",
              "</style>\n",
              "<table border=\"1\" class=\"dataframe\">\n",
              "  <thead>\n",
              "    <tr style=\"text-align: right;\">\n",
              "      <th></th>\n",
              "      <th>Opportunity A</th>\n",
              "      <th>Opportunity B</th>\n",
              "      <th>Opportunity C</th>\n",
              "    </tr>\n",
              "  </thead>\n",
              "  <tbody>\n",
              "    <tr>\n",
              "      <th>count</th>\n",
              "      <td>10000.000000</td>\n",
              "      <td>10000.000000</td>\n",
              "      <td>10000.000000</td>\n",
              "    </tr>\n",
              "    <tr>\n",
              "      <th>mean</th>\n",
              "      <td>0.059329</td>\n",
              "      <td>0.059475</td>\n",
              "      <td>0.058735</td>\n",
              "    </tr>\n",
              "    <tr>\n",
              "      <th>std</th>\n",
              "      <td>0.198495</td>\n",
              "      <td>0.142654</td>\n",
              "      <td>0.262853</td>\n",
              "    </tr>\n",
              "    <tr>\n",
              "      <th>min</th>\n",
              "      <td>-0.787878</td>\n",
              "      <td>-0.467733</td>\n",
              "      <td>-0.859693</td>\n",
              "    </tr>\n",
              "    <tr>\n",
              "      <th>25%</th>\n",
              "      <td>-0.073696</td>\n",
              "      <td>-0.036342</td>\n",
              "      <td>-0.120554</td>\n",
              "    </tr>\n",
              "    <tr>\n",
              "      <th>50%</th>\n",
              "      <td>0.058363</td>\n",
              "      <td>0.058386</td>\n",
              "      <td>0.058414</td>\n",
              "    </tr>\n",
              "    <tr>\n",
              "      <th>75%</th>\n",
              "      <td>0.192640</td>\n",
              "      <td>0.156483</td>\n",
              "      <td>0.237903</td>\n",
              "    </tr>\n",
              "    <tr>\n",
              "      <th>max</th>\n",
              "      <td>0.858672</td>\n",
              "      <td>0.588158</td>\n",
              "      <td>1.410236</td>\n",
              "    </tr>\n",
              "  </tbody>\n",
              "</table>\n",
              "</div>\n",
              "      <button class=\"colab-df-convert\" onclick=\"convertToInteractive('df-54b1eb67-82d4-469f-8014-bf1f305ef173')\"\n",
              "              title=\"Convert this dataframe to an interactive table.\"\n",
              "              style=\"display:none;\">\n",
              "        \n",
              "  <svg xmlns=\"http://www.w3.org/2000/svg\" height=\"24px\"viewBox=\"0 0 24 24\"\n",
              "       width=\"24px\">\n",
              "    <path d=\"M0 0h24v24H0V0z\" fill=\"none\"/>\n",
              "    <path d=\"M18.56 5.44l.94 2.06.94-2.06 2.06-.94-2.06-.94-.94-2.06-.94 2.06-2.06.94zm-11 1L8.5 8.5l.94-2.06 2.06-.94-2.06-.94L8.5 2.5l-.94 2.06-2.06.94zm10 10l.94 2.06.94-2.06 2.06-.94-2.06-.94-.94-2.06-.94 2.06-2.06.94z\"/><path d=\"M17.41 7.96l-1.37-1.37c-.4-.4-.92-.59-1.43-.59-.52 0-1.04.2-1.43.59L10.3 9.45l-7.72 7.72c-.78.78-.78 2.05 0 2.83L4 21.41c.39.39.9.59 1.41.59.51 0 1.02-.2 1.41-.59l7.78-7.78 2.81-2.81c.8-.78.8-2.07 0-2.86zM5.41 20L4 18.59l7.72-7.72 1.47 1.35L5.41 20z\"/>\n",
              "  </svg>\n",
              "      </button>\n",
              "      \n",
              "  <style>\n",
              "    .colab-df-container {\n",
              "      display:flex;\n",
              "      flex-wrap:wrap;\n",
              "      gap: 12px;\n",
              "    }\n",
              "\n",
              "    .colab-df-convert {\n",
              "      background-color: #E8F0FE;\n",
              "      border: none;\n",
              "      border-radius: 50%;\n",
              "      cursor: pointer;\n",
              "      display: none;\n",
              "      fill: #1967D2;\n",
              "      height: 32px;\n",
              "      padding: 0 0 0 0;\n",
              "      width: 32px;\n",
              "    }\n",
              "\n",
              "    .colab-df-convert:hover {\n",
              "      background-color: #E2EBFA;\n",
              "      box-shadow: 0px 1px 2px rgba(60, 64, 67, 0.3), 0px 1px 3px 1px rgba(60, 64, 67, 0.15);\n",
              "      fill: #174EA6;\n",
              "    }\n",
              "\n",
              "    [theme=dark] .colab-df-convert {\n",
              "      background-color: #3B4455;\n",
              "      fill: #D2E3FC;\n",
              "    }\n",
              "\n",
              "    [theme=dark] .colab-df-convert:hover {\n",
              "      background-color: #434B5C;\n",
              "      box-shadow: 0px 1px 3px 1px rgba(0, 0, 0, 0.15);\n",
              "      filter: drop-shadow(0px 1px 2px rgba(0, 0, 0, 0.3));\n",
              "      fill: #FFFFFF;\n",
              "    }\n",
              "  </style>\n",
              "\n",
              "      <script>\n",
              "        const buttonEl =\n",
              "          document.querySelector('#df-54b1eb67-82d4-469f-8014-bf1f305ef173 button.colab-df-convert');\n",
              "        buttonEl.style.display =\n",
              "          google.colab.kernel.accessAllowed ? 'block' : 'none';\n",
              "\n",
              "        async function convertToInteractive(key) {\n",
              "          const element = document.querySelector('#df-54b1eb67-82d4-469f-8014-bf1f305ef173');\n",
              "          const dataTable =\n",
              "            await google.colab.kernel.invokeFunction('convertToInteractive',\n",
              "                                                     [key], {});\n",
              "          if (!dataTable) return;\n",
              "\n",
              "          const docLinkHtml = 'Like what you see? Visit the ' +\n",
              "            '<a target=\"_blank\" href=https://colab.research.google.com/notebooks/data_table.ipynb>data table notebook</a>'\n",
              "            + ' to learn more about interactive tables.';\n",
              "          element.innerHTML = '';\n",
              "          dataTable['output_type'] = 'display_data';\n",
              "          await google.colab.output.renderOutput(dataTable, element);\n",
              "          const docLink = document.createElement('div');\n",
              "          docLink.innerHTML = docLinkHtml;\n",
              "          element.appendChild(docLink);\n",
              "        }\n",
              "      </script>\n",
              "    </div>\n",
              "  </div>\n",
              "  "
            ]
          },
          "metadata": {},
          "execution_count": 87
        }
      ]
    },
    {
      "cell_type": "code",
      "source": [
        "# Calculate the means and variances from the dataset\n",
        "means = np.mean(df, axis=0)\n",
        "variances = np.var(df, axis=0)"
      ],
      "metadata": {
        "id": "K8iVVrY_HqCn"
      },
      "execution_count": 88,
      "outputs": []
    },
    {
      "cell_type": "code",
      "source": [
        "means"
      ],
      "metadata": {
        "colab": {
          "base_uri": "https://localhost:8080/"
        },
        "id": "LgSHmo6LIcjU",
        "outputId": "c3ef70a4-4e0a-43c8-fa2d-24da8bf844e1"
      },
      "execution_count": 89,
      "outputs": [
        {
          "output_type": "execute_result",
          "data": {
            "text/plain": [
              "Opportunity A    0.059329\n",
              "Opportunity B    0.059475\n",
              "Opportunity C    0.058735\n",
              "dtype: float64"
            ]
          },
          "metadata": {},
          "execution_count": 89
        }
      ]
    },
    {
      "cell_type": "markdown",
      "source": [
        "But can we say that opportunity B is the best ?"
      ],
      "metadata": {
        "id": "0i3qQ8lE8r21"
      }
    },
    {
      "cell_type": "markdown",
      "source": [
        "Let's have a list of the three opportunities"
      ],
      "metadata": {
        "id": "YptttkqcDGTq"
      }
    },
    {
      "cell_type": "code",
      "source": [
        "investment_opportunities = ['Opportunity A', 'Opportunity B', 'Opportunity C']"
      ],
      "metadata": {
        "id": "cQYPQyRQ9QMN"
      },
      "execution_count": 90,
      "outputs": []
    },
    {
      "cell_type": "markdown",
      "source": [
        "Now, we can initialize some variables, as usual"
      ],
      "metadata": {
        "id": "sMd7yv5LDNrb"
      }
    },
    {
      "cell_type": "code",
      "source": [
        "N = len(investment_opportunities)\n",
        "count = np.zeros(N)\n",
        "sum_rewards = np.zeros(N)\n",
        "Q = np.zeros(N)\n",
        "alpha = np.ones(N)\n",
        "beta = np.ones(N)\n",
        "num_rounds = df.shape[0]"
      ],
      "metadata": {
        "id": "NUecFueoDTRb"
      },
      "execution_count": 91,
      "outputs": []
    },
    {
      "cell_type": "code",
      "source": [
        "alpha"
      ],
      "metadata": {
        "colab": {
          "base_uri": "https://localhost:8080/"
        },
        "id": "_-BP-Hw7MZJ2",
        "outputId": "486243e3-b30d-4b96-9a03-a5af15b5f5f7"
      },
      "execution_count": 92,
      "outputs": [
        {
          "output_type": "execute_result",
          "data": {
            "text/plain": [
              "array([1., 1., 1.])"
            ]
          },
          "metadata": {},
          "execution_count": 92
        }
      ]
    },
    {
      "cell_type": "markdown",
      "source": [
        "Define Thompson Sampling function"
      ],
      "metadata": {
        "id": "2O6LyGxWDv2f"
      }
    },
    {
      "cell_type": "code",
      "source": [
        "def thompson_sampling(alpha, beta):\n",
        "    samples = [np.random.beta(alpha[i]+1, beta[i]+1) for i in range(N)]\n",
        "    return np.argmax(samples)"
      ],
      "metadata": {
        "id": "kEYL3UPGDxPz"
      },
      "execution_count": 93,
      "outputs": []
    },
    {
      "cell_type": "markdown",
      "source": [
        "Finally, we can run the def thompson sampling"
      ],
      "metadata": {
        "id": "d8EI-LHiD1Wx"
      }
    },
    {
      "cell_type": "code",
      "source": [
        "for trader in range(num_rounds):\n",
        "    # Select the arm (or opportunity) using Thompson Sampling\n",
        "    arm = thompson_sampling(alpha, beta)\n",
        "\n",
        "    # Simulate the reward for the selected arm based on your real-life dataset\n",
        "    reward = df[investment_opportunities[arm]][trader]\n",
        "\n",
        "    # Update the counts and sum of rewards for the arm\n",
        "    count[arm] += 1\n",
        "    sum_rewards[arm] += reward\n",
        "\n",
        "    # Update the alpha and beta parameters based on the observed reward\n",
        "    alpha[arm] += reward\n",
        "    beta[arm] += (1 - reward)\n",
        "\n",
        "    # Update the average reward for the arm\n",
        "    Q[arm] = sum_rewards[arm] / count[arm]"
      ],
      "metadata": {
        "id": "KQ927yJB7UhQ"
      },
      "execution_count": 94,
      "outputs": []
    },
    {
      "cell_type": "markdown",
      "source": [
        "Find the best arm with the highest average reward"
      ],
      "metadata": {
        "id": "aWNPCBynEFU2"
      }
    },
    {
      "cell_type": "code",
      "source": [
        "best_arm = investment_opportunities[np.argmax(Q)]\n",
        "\n",
        "print('The optimal arm is:', best_arm)"
      ],
      "metadata": {
        "colab": {
          "base_uri": "https://localhost:8080/"
        },
        "id": "tVQjO4qXEDGc",
        "outputId": "65238f2f-ecf7-4408-a1d5-0250881d0b3f"
      },
      "execution_count": 95,
      "outputs": [
        {
          "output_type": "stream",
          "name": "stdout",
          "text": [
            "The optimal arm is: Opportunity A\n"
          ]
        }
      ]
    },
    {
      "cell_type": "code",
      "source": [
        "# Plot the average rewards for each investment opportunity\n",
        "\n",
        "plt.bar(investment_opportunities, Q)\n",
        "plt.xlabel('Investment Opportunities')\n",
        "plt.ylabel('Average Reward')\n",
        "plt.title('Thompson Sampling: Average Reward for Each Investment Opportunity')\n",
        "plt.show()"
      ],
      "metadata": {
        "colab": {
          "base_uri": "https://localhost:8080/",
          "height": 472
        },
        "id": "yKCqI5wFETwT",
        "outputId": "2c4660f9-db40-4587-b0cd-4509a8326f4c"
      },
      "execution_count": 96,
      "outputs": [
        {
          "output_type": "display_data",
          "data": {
            "text/plain": [
              "<Figure size 640x480 with 1 Axes>"
            ],
            "image/png": "[encoded data removed]"
          },
          "metadata": {}
        }
      ]
    }
  ]
}