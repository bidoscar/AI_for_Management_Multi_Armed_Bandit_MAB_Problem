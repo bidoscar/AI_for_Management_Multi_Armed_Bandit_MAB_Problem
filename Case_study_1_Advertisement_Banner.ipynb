{
  "cells": [
    {
      "cell_type": "markdown",
      "metadata": {
        "id": "PeSz3-WoC9Js"
      },
      "source": [
        "# Finding the best advertisement banner using MAB\n",
        "\n",
        "Imagine we have a website and we want to find out which advertisement banner is the most popular among our users. We have five different banners to choose from. To figure out which one is liked the most, we can use one of MAB algorithms.\n",
        "\n",
        "In the MAB framework, each banner is like an arm of a slot machine. When a user clicks on a banner, you assign a reward of +1, and if they don't click, the reward is 0. The goal is to find the banner that gets the highest number of clicks or rewards.\n",
        "\n",
        "In this\n",
        "case study, let's just use an epsilon-greedy method to understand the best advertisement\n",
        "banner.\n",
        "\n",
        "First, let us import the necessary libraries:"
      ]
    },
    {
      "cell_type": "code",
      "execution_count": 53,
      "metadata": {
        "id": "8fFevFvQC9Jz"
      },
      "outputs": [],
      "source": [
        "import pandas as pd\n",
        "import numpy as np\n",
        "import matplotlib.pyplot as plt\n",
        "import seaborn as sns\n",
        "\n",
        "%matplotlib inline\n",
        "plt.style.use('ggplot')"
      ]
    },
    {
      "cell_type": "markdown",
      "metadata": {
        "id": "8WeE_nt7C9J1"
      },
      "source": [
        "## Uploading a dataset\n",
        "\n",
        "Now, let's upload a dataset with five columns denoting the five\n",
        "advertisement banners and 100000 rows where the values in the row is either 0 or 1 indicating whether the advertisement banner has been clicked (1) or not (0) by the user:"
      ]
    },
    {
      "cell_type": "code",
      "execution_count": 54,
      "metadata": {
        "id": "xzgHTtgdC9J3"
      },
      "outputs": [],
      "source": [
        "df = pd.read_excel('Ad_banners_Bid_Oscar_website_users.xlsx')"
      ]
    },
    {
      "cell_type": "markdown",
      "metadata": {
        "id": "RvO9aTj7C9J6"
      },
      "source": [
        "Let's look at the first few rows of our dataset:"
      ]
    },
    {
      "cell_type": "code",
      "execution_count": 55,
      "metadata": {
        "colab": {
          "base_uri": "https://localhost:8080/",
          "height": 206
        },
        "id": "wq8p5jbAC9J7",
        "outputId": "dfd15d95-39d0-4ea7-b5e0-1df01f7aacba"
      },
      "outputs": [
        {
          "output_type": "execute_result",
          "data": {
            "text/plain": [
              "   Banner_type_0  Banner_type_1  Banner_type_2  Banner_type_3  Banner_type_4\n",
              "0              0              1              0              1              1\n",
              "1              1              0              0              1              0\n",
              "2              0              1              1              0              1\n",
              "3              0              1              1              0              0\n",
              "4              0              1              0              1              0"
            ],
            "text/html": [
              "\n",
              "  <div id=\"df-9389ce34-4574-4547-b8f7-f413925bda65\">\n",
              "    <div class=\"colab-df-container\">\n",
              "      <div>\n",
              "<style scoped>\n",
              "    .dataframe tbody tr th:only-of-type {\n",
              "        vertical-align: middle;\n",
              "    }\n",
              "\n",
              "    .dataframe tbody tr th {\n",
              "        vertical-align: top;\n",
              "    }\n",
              "\n",
              "    .dataframe thead th {\n",
              "        text-align: right;\n",
              "    }\n",
              "</style>\n",
              "<table border=\"1\" class=\"dataframe\">\n",
              "  <thead>\n",
              "    <tr style=\"text-align: right;\">\n",
              "      <th></th>\n",
              "      <th>Banner_type_0</th>\n",
              "      <th>Banner_type_1</th>\n",
              "      <th>Banner_type_2</th>\n",
              "      <th>Banner_type_3</th>\n",
              "      <th>Banner_type_4</th>\n",
              "    </tr>\n",
              "  </thead>\n",
              "  <tbody>\n",
              "    <tr>\n",
              "      <th>0</th>\n",
              "      <td>0</td>\n",
              "      <td>1</td>\n",
              "      <td>0</td>\n",
              "      <td>1</td>\n",
              "      <td>1</td>\n",
              "    </tr>\n",
              "    <tr>\n",
              "      <th>1</th>\n",
              "      <td>1</td>\n",
              "      <td>0</td>\n",
              "      <td>0</td>\n",
              "      <td>1</td>\n",
              "      <td>0</td>\n",
              "    </tr>\n",
              "    <tr>\n",
              "      <th>2</th>\n",
              "      <td>0</td>\n",
              "      <td>1</td>\n",
              "      <td>1</td>\n",
              "      <td>0</td>\n",
              "      <td>1</td>\n",
              "    </tr>\n",
              "    <tr>\n",
              "      <th>3</th>\n",
              "      <td>0</td>\n",
              "      <td>1</td>\n",
              "      <td>1</td>\n",
              "      <td>0</td>\n",
              "      <td>0</td>\n",
              "    </tr>\n",
              "    <tr>\n",
              "      <th>4</th>\n",
              "      <td>0</td>\n",
              "      <td>1</td>\n",
              "      <td>0</td>\n",
              "      <td>1</td>\n",
              "      <td>0</td>\n",
              "    </tr>\n",
              "  </tbody>\n",
              "</table>\n",
              "</div>\n",
              "      <button class=\"colab-df-convert\" onclick=\"convertToInteractive('df-9389ce34-4574-4547-b8f7-f413925bda65')\"\n",
              "              title=\"Convert this dataframe to an interactive table.\"\n",
              "              style=\"display:none;\">\n",
              "        \n",
              "  <svg xmlns=\"http://www.w3.org/2000/svg\" height=\"24px\"viewBox=\"0 0 24 24\"\n",
              "       width=\"24px\">\n",
              "    <path d=\"M0 0h24v24H0V0z\" fill=\"none\"/>\n",
              "    <path d=\"M18.56 5.44l.94 2.06.94-2.06 2.06-.94-2.06-.94-.94-2.06-.94 2.06-2.06.94zm-11 1L8.5 8.5l.94-2.06 2.06-.94-2.06-.94L8.5 2.5l-.94 2.06-2.06.94zm10 10l.94 2.06.94-2.06 2.06-.94-2.06-.94-.94-2.06-.94 2.06-2.06.94z\"/><path d=\"M17.41 7.96l-1.37-1.37c-.4-.4-.92-.59-1.43-.59-.52 0-1.04.2-1.43.59L10.3 9.45l-7.72 7.72c-.78.78-.78 2.05 0 2.83L4 21.41c.39.39.9.59 1.41.59.51 0 1.02-.2 1.41-.59l7.78-7.78 2.81-2.81c.8-.78.8-2.07 0-2.86zM5.41 20L4 18.59l7.72-7.72 1.47 1.35L5.41 20z\"/>\n",
              "  </svg>\n",
              "      </button>\n",
              "      \n",
              "  <style>\n",
              "    .colab-df-container {\n",
              "      display:flex;\n",
              "      flex-wrap:wrap;\n",
              "      gap: 12px;\n",
              "    }\n",
              "\n",
              "    .colab-df-convert {\n",
              "      background-color: #E8F0FE;\n",
              "      border: none;\n",
              "      border-radius: 50%;\n",
              "      cursor: pointer;\n",
              "      display: none;\n",
              "      fill: #1967D2;\n",
              "      height: 32px;\n",
              "      padding: 0 0 0 0;\n",
              "      width: 32px;\n",
              "    }\n",
              "\n",
              "    .colab-df-convert:hover {\n",
              "      background-color: #E2EBFA;\n",
              "      box-shadow: 0px 1px 2px rgba(60, 64, 67, 0.3), 0px 1px 3px 1px rgba(60, 64, 67, 0.15);\n",
              "      fill: #174EA6;\n",
              "    }\n",
              "\n",
              "    [theme=dark] .colab-df-convert {\n",
              "      background-color: #3B4455;\n",
              "      fill: #D2E3FC;\n",
              "    }\n",
              "\n",
              "    [theme=dark] .colab-df-convert:hover {\n",
              "      background-color: #434B5C;\n",
              "      box-shadow: 0px 1px 3px 1px rgba(0, 0, 0, 0.15);\n",
              "      filter: drop-shadow(0px 1px 2px rgba(0, 0, 0, 0.3));\n",
              "      fill: #FFFFFF;\n",
              "    }\n",
              "  </style>\n",
              "\n",
              "      <script>\n",
              "        const buttonEl =\n",
              "          document.querySelector('#df-9389ce34-4574-4547-b8f7-f413925bda65 button.colab-df-convert');\n",
              "        buttonEl.style.display =\n",
              "          google.colab.kernel.accessAllowed ? 'block' : 'none';\n",
              "\n",
              "        async function convertToInteractive(key) {\n",
              "          const element = document.querySelector('#df-9389ce34-4574-4547-b8f7-f413925bda65');\n",
              "          const dataTable =\n",
              "            await google.colab.kernel.invokeFunction('convertToInteractive',\n",
              "                                                     [key], {});\n",
              "          if (!dataTable) return;\n",
              "\n",
              "          const docLinkHtml = 'Like what you see? Visit the ' +\n",
              "            '<a target=\"_blank\" href=https://colab.research.google.com/notebooks/data_table.ipynb>data table notebook</a>'\n",
              "            + ' to learn more about interactive tables.';\n",
              "          element.innerHTML = '';\n",
              "          dataTable['output_type'] = 'display_data';\n",
              "          await google.colab.output.renderOutput(dataTable, element);\n",
              "          const docLink = document.createElement('div');\n",
              "          docLink.innerHTML = docLinkHtml;\n",
              "          element.appendChild(docLink);\n",
              "        }\n",
              "      </script>\n",
              "    </div>\n",
              "  </div>\n",
              "  "
            ]
          },
          "metadata": {},
          "execution_count": 55
        }
      ],
      "source": [
        "df.head()"
      ]
    },
    {
      "cell_type": "code",
      "source": [
        "df.shape"
      ],
      "metadata": {
        "colab": {
          "base_uri": "https://localhost:8080/"
        },
        "id": "QHEQTzh1S7uJ",
        "outputId": "79c4cefb-2d43-4012-a1c4-41f1fe50e876"
      },
      "execution_count": 56,
      "outputs": [
        {
          "output_type": "execute_result",
          "data": {
            "text/plain": [
              "(100000, 5)"
            ]
          },
          "metadata": {},
          "execution_count": 56
        }
      ]
    },
    {
      "cell_type": "markdown",
      "source": [
        "We can't systemtically say that Banner type 2 is the best although it has the higher number of clicks"
      ],
      "metadata": {
        "id": "UxhlwThHYs3F"
      }
    },
    {
      "cell_type": "code",
      "source": [
        "for col in df.columns:\n",
        "  print(f\"For a total users of {len(df)}, the number of users who clicked on the {col} is {df[col].sum()}\\n\")"
      ],
      "metadata": {
        "colab": {
          "base_uri": "https://localhost:8080/"
        },
        "id": "qWY7OxzSWEZY",
        "outputId": "75a1ee10-eb33-44e5-d000-20413b7b3f32"
      },
      "execution_count": 69,
      "outputs": [
        {
          "output_type": "stream",
          "name": "stdout",
          "text": [
            "For a total users of 100000, the number of users who clicked on the Banner_type_0 is 49851\n",
            "\n",
            "For a total users of 100000, the number of users who clicked on the Banner_type_1 is 49982\n",
            "\n",
            "For a total users of 100000, the number of users who clicked on the Banner_type_2 is 50062\n",
            "\n",
            "For a total users of 100000, the number of users who clicked on the Banner_type_3 is 49761\n",
            "\n",
            "For a total users of 100000, the number of users who clicked on the Banner_type_4 is 49986\n",
            "\n"
          ]
        }
      ]
    },
    {
      "cell_type": "markdown",
      "source": [
        "**Note that this dataset help us to know the probability distribution of the arms(banners). Instead of having a specific value of probability for each banner, we have the observed data that we can be directly used**"
      ],
      "metadata": {
        "id": "zynEbE7CULqf"
      }
    },
    {
      "cell_type": "markdown",
      "metadata": {
        "id": "OJo8xPorC9J-"
      },
      "source": [
        "## Initialize the variables\n",
        "\n",
        "Now, let's initialize some of the important variables:\n",
        "\n",
        "Set the number of iterations (should be equal to the number of users/rows in the dataset):"
      ]
    },
    {
      "cell_type": "code",
      "execution_count": 81,
      "metadata": {
        "id": "bWathpkaC9KA"
      },
      "outputs": [],
      "source": [
        "num_iterations = df.shape[0]"
      ]
    },
    {
      "cell_type": "markdown",
      "metadata": {
        "id": "EJWzvVrhC9KB"
      },
      "source": [
        "Define the number of banners (equal to the number of columns):"
      ]
    },
    {
      "cell_type": "code",
      "execution_count": 82,
      "metadata": {
        "id": "CTE2E4RyC9KC"
      },
      "outputs": [],
      "source": [
        "num_banner = df.shape[1]"
      ]
    },
    {
      "cell_type": "markdown",
      "metadata": {
        "id": "YsQnNkGNC9KD"
      },
      "source": [
        "Initialize count for storing the number of times, the banner was clicked:"
      ]
    },
    {
      "cell_type": "code",
      "execution_count": 83,
      "metadata": {
        "id": "DiFsZ2dqC9KE"
      },
      "outputs": [],
      "source": [
        "count = np.zeros(num_banner)"
      ]
    },
    {
      "cell_type": "markdown",
      "metadata": {
        "id": "_QvajvXJC9KF"
      },
      "source": [
        "Initialize sum_rewards for storing the sum of rewards obtained from each banner:"
      ]
    },
    {
      "cell_type": "code",
      "execution_count": 84,
      "metadata": {
        "id": "xHIZ8D5KC9KG"
      },
      "outputs": [],
      "source": [
        "sum_rewards = np.zeros(num_banner)"
      ]
    },
    {
      "cell_type": "markdown",
      "metadata": {
        "id": "Mk9_Hc9eC9KH"
      },
      "source": [
        "Initialize Q for storing the mean reward of each banner:"
      ]
    },
    {
      "cell_type": "code",
      "execution_count": 85,
      "metadata": {
        "id": "rQKv4e2DC9KH"
      },
      "outputs": [],
      "source": [
        "Q = np.zeros(num_banner)"
      ]
    },
    {
      "cell_type": "markdown",
      "metadata": {
        "id": "HzRRg15wC9KI"
      },
      "source": [
        "Define the list for storing the selected banners:"
      ]
    },
    {
      "cell_type": "code",
      "execution_count": 86,
      "metadata": {
        "id": "rs3Z1hpKC9KI"
      },
      "outputs": [],
      "source": [
        "banner_selected = []"
      ]
    },
    {
      "cell_type": "markdown",
      "metadata": {
        "id": "A83MmGkCC9KI"
      },
      "source": [
        "## Define the epsilon-greedy method\n",
        "\n",
        "Now, let's define the epsilon-greedy method. We generate a random value from a uniform\n",
        "distribution. If the random value is less than epsilon, then we select the random banner else\n",
        "we select the best banner which has a maximum average reward:"
      ]
    },
    {
      "cell_type": "code",
      "execution_count": 87,
      "metadata": {
        "id": "2pnWEespC9KI"
      },
      "outputs": [],
      "source": [
        "def epsilon_greedy_policy(epsilon):\n",
        "\n",
        "    if np.random.uniform(0,1) < epsilon:\n",
        "        return  np.random.choice(num_banner)\n",
        "    else:\n",
        "        return np.argmax(Q)"
      ]
    },
    {
      "cell_type": "markdown",
      "metadata": {
        "id": "eqYldHK0C9KJ"
      },
      "source": [
        "## Run the bandit test\n",
        "\n",
        "Now, we run the epsilon-greedy policy to understand which is the best advertisement\n",
        "banner:"
      ]
    },
    {
      "cell_type": "code",
      "execution_count": 114,
      "metadata": {
        "id": "fdpD913YC9KJ"
      },
      "outputs": [],
      "source": [
        "#for each iteration\n",
        "for i in range(num_iterations):\n",
        "\n",
        "    #select the banner using the epsilon-greedy policy\n",
        "    banner = epsilon_greedy_policy(0.5)\n",
        "\n",
        "    #get the reward of the banner\n",
        "    reward = df.values[i, banner]\n",
        "\n",
        "    #increment the counter\n",
        "    count[banner] += 1\n",
        "\n",
        "    #store the sum of rewards\n",
        "    sum_rewards[banner]+=reward\n",
        "\n",
        "    #compute the average reward\n",
        "    Q[banner] = sum_rewards[banner]/count[banner]\n",
        "\n",
        "    #store the banner to the banner selected list\n",
        "    banner_selected.append(banner)"
      ]
    },
    {
      "cell_type": "markdown",
      "metadata": {
        "id": "QmWfImvmC9KJ"
      },
      "source": [
        "After all the rounds, we can select the best banner as the one which has the maximum\n",
        "average reward:"
      ]
    },
    {
      "cell_type": "code",
      "execution_count": 115,
      "metadata": {
        "id": "2fnzpPnCC9KK",
        "outputId": "c18b164e-f761-4fb5-db8e-f8e8e30e570d",
        "colab": {
          "base_uri": "https://localhost:8080/"
        }
      },
      "outputs": [
        {
          "output_type": "stream",
          "name": "stdout",
          "text": [
            "The optimal banner is banner 2\n"
          ]
        }
      ],
      "source": [
        "print( 'The optimal banner is banner {}'.format(np.argmax(Q)))"
      ]
    },
    {
      "cell_type": "markdown",
      "metadata": {
        "id": "qLgCQbOaC9KK"
      },
      "source": [
        "We can also plot and see which banner is selected most of the times:"
      ]
    },
    {
      "cell_type": "code",
      "source": [
        "investment_opportunities = ['Banner 0', 'Banner 1', 'Banner 2', 'Banner 3', 'Banner 4']"
      ],
      "metadata": {
        "id": "WR6vGJIQYO6x"
      },
      "execution_count": 110,
      "outputs": []
    },
    {
      "cell_type": "code",
      "source": [
        "plt.bar(investment_opportunities, Q)\n",
        "plt.ylim(0.4, 0.51)\n",
        "plt.xlabel('Banners')\n",
        "plt.ylabel('Average Reward')\n",
        "plt.title('Average Reward for Each banner')\n",
        "plt.show()"
      ],
      "metadata": {
        "colab": {
          "base_uri": "https://localhost:8080/",
          "height": 477
        },
        "id": "WJ3Q7xLTYKmO",
        "outputId": "d70cecf9-185b-46ac-e9e6-abc09d738a67"
      },
      "execution_count": 111,
      "outputs": [
        {
          "output_type": "display_data",
          "data": {
            "text/plain": [
              "<Figure size 640x480 with 1 Axes>"
            ],
            "image/png": "[encoded data removed]"
          },
          "metadata": {}
        }
      ]
    },
    {
      "cell_type": "markdown",
      "metadata": {
        "id": "lnTblLM8C9KL"
      },
      "source": [
        "Thus, we learned how to find the best advertisement banner by framing our problem as a multi-armed bandit problem"
      ]
    }
  ],
  "metadata": {
    "kernelspec": {
      "display_name": "Python 3",
      "language": "python",
      "name": "python3"
    },
    "language_info": {
      "codemirror_mode": {
        "name": "ipython",
        "version": 3
      },
      "file_extension": ".py",
      "mimetype": "text/x-python",
      "name": "python",
      "nbconvert_exporter": "python",
      "pygments_lexer": "ipython3",
      "version": "3.6.9"
    },
    "colab": {
      "provenance": []
    }
  },
  "nbformat": 4,
  "nbformat_minor": 0
}